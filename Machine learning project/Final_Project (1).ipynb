{
 "cells": [
  {
   "cell_type": "code",
   "execution_count": 1,
   "metadata": {
    "id": "far0Bs0Xnh2u"
   },
   "outputs": [],
   "source": [
    "import pandas as pd\n",
    "import numpy as np\n",
    "import matplotlib.pyplot as plt\n",
    "\n",
    "from sklearn.preprocessing import scale\n",
    "from sklearn.linear_model import LogisticRegression\n",
    "from sklearn.linear_model import LinearRegression\n",
    "from sklearn.metrics import mean_squared_error, r2_score\n",
    "from sklearn.discriminant_analysis import LinearDiscriminantAnalysis\n",
    "from sklearn.neighbors import KNeighborsClassifier\n",
    "from sklearn.metrics import confusion_matrix, accuracy_score\n",
    "from sklearn.preprocessing import LabelEncoder\n",
    "from sklearn.preprocessing import scale\n",
    "from sklearn.metrics import precision_score, recall_score, f1_score\n",
    "\n",
    "\n",
    "\n",
    "\n",
    "%matplotlib inline\n",
    "import matplotlib.pyplot as plt\n",
    "import seaborn as sns\n",
    "\n",
    "sns.set_style(\"white\")\n"
   ]
  },
  {
   "cell_type": "code",
   "execution_count": 8,
   "metadata": {},
   "outputs": [],
   "source": []
  },
  {
   "cell_type": "code",
   "execution_count": 9,
   "metadata": {
    "colab": {
     "base_uri": "https://localhost:8080/",
     "height": 226
    },
    "id": "l5qPgsi8oJAv",
    "outputId": "825f1dc1-fd78-44ba-95af-82aef4ca494e"
   },
   "outputs": [
    {
     "data": {
      "text/html": [
       "<div>\n",
       "<style scoped>\n",
       "    .dataframe tbody tr th:only-of-type {\n",
       "        vertical-align: middle;\n",
       "    }\n",
       "\n",
       "    .dataframe tbody tr th {\n",
       "        vertical-align: top;\n",
       "    }\n",
       "\n",
       "    .dataframe thead th {\n",
       "        text-align: right;\n",
       "    }\n",
       "</style>\n",
       "<table border=\"1\" class=\"dataframe\">\n",
       "  <thead>\n",
       "    <tr style=\"text-align: right;\">\n",
       "      <th></th>\n",
       "      <th>GPA</th>\n",
       "      <th>SAT_Score</th>\n",
       "      <th>Extracurricular_Activities</th>\n",
       "      <th>Admission_Status</th>\n",
       "      <th>GPA_Category</th>\n",
       "      <th>Activity_Level</th>\n",
       "      <th>SAT_Percentile</th>\n",
       "      <th>Academic_Score</th>\n",
       "      <th>Admission_Label</th>\n",
       "    </tr>\n",
       "  </thead>\n",
       "  <tbody>\n",
       "    <tr>\n",
       "      <th>0</th>\n",
       "      <td>3.07</td>\n",
       "      <td>986</td>\n",
       "      <td>3</td>\n",
       "      <td>Rejected</td>\n",
       "      <td>Medium</td>\n",
       "      <td>Moderate</td>\n",
       "      <td>2.4</td>\n",
       "      <td>553.50</td>\n",
       "      <td>0</td>\n",
       "    </tr>\n",
       "    <tr>\n",
       "      <th>1</th>\n",
       "      <td>2.98</td>\n",
       "      <td>1095</td>\n",
       "      <td>4</td>\n",
       "      <td>Rejected</td>\n",
       "      <td>Medium</td>\n",
       "      <td>Moderate</td>\n",
       "      <td>26.8</td>\n",
       "      <td>571.75</td>\n",
       "      <td>0</td>\n",
       "    </tr>\n",
       "    <tr>\n",
       "      <th>2</th>\n",
       "      <td>3.10</td>\n",
       "      <td>1156</td>\n",
       "      <td>0</td>\n",
       "      <td>Rejected</td>\n",
       "      <td>Medium</td>\n",
       "      <td>Few</td>\n",
       "      <td>33.2</td>\n",
       "      <td>599.00</td>\n",
       "      <td>0</td>\n",
       "    </tr>\n",
       "    <tr>\n",
       "      <th>3</th>\n",
       "      <td>3.83</td>\n",
       "      <td>1501</td>\n",
       "      <td>8</td>\n",
       "      <td>Accepted</td>\n",
       "      <td>High</td>\n",
       "      <td>Many</td>\n",
       "      <td>96.0</td>\n",
       "      <td>758.25</td>\n",
       "      <td>2</td>\n",
       "    </tr>\n",
       "    <tr>\n",
       "      <th>4</th>\n",
       "      <td>3.56</td>\n",
       "      <td>1374</td>\n",
       "      <td>7</td>\n",
       "      <td>Accepted</td>\n",
       "      <td>High</td>\n",
       "      <td>Many</td>\n",
       "      <td>69.8</td>\n",
       "      <td>699.50</td>\n",
       "      <td>2</td>\n",
       "    </tr>\n",
       "  </tbody>\n",
       "</table>\n",
       "</div>"
      ],
      "text/plain": [
       "    GPA  SAT_Score  Extracurricular_Activities Admission_Status GPA_Category  \\\n",
       "0  3.07        986                           3         Rejected       Medium   \n",
       "1  2.98       1095                           4         Rejected       Medium   \n",
       "2  3.10       1156                           0         Rejected       Medium   \n",
       "3  3.83       1501                           8         Accepted         High   \n",
       "4  3.56       1374                           7         Accepted         High   \n",
       "\n",
       "  Activity_Level  SAT_Percentile  Academic_Score  Admission_Label  \n",
       "0       Moderate             2.4          553.50                0  \n",
       "1       Moderate            26.8          571.75                0  \n",
       "2            Few            33.2          599.00                0  \n",
       "3           Many            96.0          758.25                2  \n",
       "4           Many            69.8          699.50                2  "
      ]
     },
     "execution_count": 9,
     "metadata": {},
     "output_type": "execute_result"
    }
   ],
   "source": [
    "# 1. read in the data set\n",
    "\n",
    "student = pd.read_csv('improved_student_admission_dataset.csv')\n",
    "student.head()"
   ]
  },
  {
   "cell_type": "code",
   "execution_count": 10,
   "metadata": {
    "id": "PLiBxPkjpWOX"
   },
   "outputs": [],
   "source": [
    "# 2. split into test and train -> objective is to predict admission status\n",
    "\n",
    "# features/predictors\n",
    "X = student[['GPA', 'SAT_Score', 'Extracurricular_Activities', 'SAT_Percentile', 'Academic_Score']]\n",
    "# outcome/target\n",
    "Y = student['Admission_Status']\n",
    "\n",
    "# training set\n",
    "X_train = X[0:175]\n",
    "y_train = Y[0:175]\n",
    "\n",
    "# testing set\n",
    "X_test = X[175:]\n",
    "y_test = Y[175:]\n"
   ]
  },
  {
   "cell_type": "code",
   "execution_count": 4,
   "metadata": {
    "colab": {
     "base_uri": "https://localhost:8080/"
    },
    "id": "C51WtdaUqK_r",
    "outputId": "ceeff146-ad24-4ea3-a7fa-7ce628ac6abb"
   },
   "outputs": [
    {
     "name": "stdout",
     "output_type": "stream",
     "text": [
      "LDA Confusion Matrix:\n",
      "\n",
      "['Accepted' 'Rejected' 'Waitlisted']\n",
      "[[21  0  0]\n",
      " [ 0 21  0]\n",
      " [ 0  1 32]]\n",
      "\n",
      "The accuracy is:  0.9866666666666667\n",
      "Precision: 0.9872727272727273\n",
      "Recall: 0.9866666666666667\n",
      "F1 Score: 0.9867191413237925\n"
     ]
    }
   ],
   "source": [
    "# 3. First ML algorithm -> Linear Discriminate Analysis\n",
    "\n",
    "# create object \"lda\"\n",
    "lda = LinearDiscriminantAnalysis()\n",
    "# train lda model\n",
    "lda.fit(X_train, y_train)\n",
    "# make predictions on the model\n",
    "preds = lda.predict(X_test)\n",
    "\n",
    "\n",
    "# confusion matrix to summarize predictions\n",
    "conf = confusion_matrix(y_test, preds)\n",
    "print('LDA Confusion Matrix:\\n')\n",
    "print(lda.classes_)\n",
    "print(conf)\n",
    "\n",
    "# measures number of correct prediction / total predictions\n",
    "acc = accuracy_score(y_test, preds)\n",
    "print('\\nThe accuracy is: ', acc)\n",
    "\n",
    "\n",
    "# True positive / total positive\n",
    "print(\"Precision:\", precision_score(y_test, preds, average='weighted'))\n",
    "\n",
    "# True positive / (True Positive + False Negative)\n",
    "print(\"Recall:\", recall_score(y_test, preds, average='weighted'))\n",
    "\n",
    "# harmonic mean of precision and recall\n",
    "print(\"F1 Score:\", f1_score(y_test, preds, average='weighted'))\n"
   ]
  },
  {
   "cell_type": "code",
   "execution_count": 5,
   "metadata": {
    "colab": {
     "base_uri": "https://localhost:8080/"
    },
    "id": "2mDpN0S2kG4y",
    "outputId": "fee394aa-a453-49c5-a571-3dac3105ef3f"
   },
   "outputs": [
    {
     "name": "stdout",
     "output_type": "stream",
     "text": [
      " Logreg Confusion Matrix:\n",
      "\n",
      "['Accepted' 'Rejected' 'Waitlisted']\n",
      "[[21  0  0]\n",
      " [ 0 21  0]\n",
      " [ 1  1 31]]\n",
      "\n",
      "The accuracy is: 0.9733333333333334\n",
      "Precision: 0.9745454545454546\n",
      "Recall: 0.9733333333333334\n",
      "F1 Score: 0.9732267441860465\n"
     ]
    }
   ],
   "source": [
    "# 4. Second ML algorithm -> Logisitc Regression\n",
    "\n",
    "# create logreg object\n",
    "logreg = LogisticRegression(max_iter=1000)\n",
    "# train model\n",
    "logreg.fit(X_train, y_train)\n",
    "# make predictions on the mode\n",
    "preds = logreg.predict(X_test)\n",
    "\n",
    "\n",
    "# confusion matrix to summarize predictions\n",
    "conf = confusion_matrix(y_test, preds)\n",
    "print(\" Logreg Confusion Matrix:\\n\")\n",
    "print(logreg.classes_)\n",
    "print(conf)\n",
    "\n",
    "# correct prediction / total predictions\n",
    "acc = accuracy_score(y_test, preds)\n",
    "print(\"\\nThe accuracy is:\", acc)\n",
    "\n",
    "# # True positive / total positive\n",
    "print(\"Precision:\", precision_score(y_test, preds, average='weighted'))\n",
    "# True positive / (True Positive + False Negative)\n",
    "print(\"Recall:\", recall_score(y_test, preds, average='weighted'))\n",
    "# harmonic mean of precision and recall\n",
    "print(\"F1 Score:\", f1_score(y_test, preds, average='weighted'))"
   ]
  },
  {
   "cell_type": "code",
   "execution_count": 6,
   "metadata": {
    "colab": {
     "base_uri": "https://localhost:8080/"
    },
    "id": "wDZcHl0yq4p1",
    "outputId": "8702c744-dc01-4c2a-bfa3-afe25c08336e"
   },
   "outputs": [
    {
     "name": "stdout",
     "output_type": "stream",
     "text": [
      "KNN Confusion Matrix:\n",
      "\n",
      "['Accepted' 'Rejected' 'Waitlisted']\n",
      "[[20  0  1]\n",
      " [ 0 21  0]\n",
      " [ 0  2 31]]\n",
      "\n",
      "The accuracy is:  0.96\n",
      "Precision: 0.9619021739130433\n",
      "Recall: 0.96\n",
      "F1 Score: 0.9601357666723519\n"
     ]
    }
   ],
   "source": [
    "# 5. Third ML algorithm -> K-Nearest Neighbours\n",
    "\n",
    "# knn object -> 5 nearest neighbours\n",
    "knn = KNeighborsClassifier(5)\n",
    "# train knn model\n",
    "knn.fit(X_train, y_train)\n",
    "# make predictions on it\n",
    "preds = knn.predict(X_test)\n",
    "\n",
    "# confusion matrix to summarize predictions\n",
    "conf = confusion_matrix(y_test, preds)\n",
    "print('KNN Confusion Matrix:\\n')\n",
    "print(knn.classes_)\n",
    "print(conf)\n",
    "\n",
    "# correct prediction / total predictions\n",
    "acc = accuracy_score(y_test, preds)\n",
    "print('\\nThe accuracy is: ', acc)\n",
    "\n",
    "# # True positive / total positive\n",
    "print(\"Precision:\", precision_score(y_test, preds, average='weighted'))\n",
    "# True positive / (True Positive + False Negative)\n",
    "print(\"Recall:\", recall_score(y_test, preds, average='weighted'))\n",
    "# harmonic mean of precision and recall\n",
    "print(\"F1 Score:\", f1_score(y_test, preds, average='weighted'))\n"
   ]
  },
  {
   "cell_type": "code",
   "execution_count": 12,
   "metadata": {},
   "outputs": [
    {
     "data": {
      "image/png": "[encoded data removed]",
      "text/plain": [
       "<Figure size 1000x600 with 1 Axes>"
      ]
     },
     "metadata": {},
     "output_type": "display_data"
    }
   ],
   "source": [
    "import numpy as np\n",
    "# Purpose: Visually compares accuracy, precision, recall, and F1 score across the three models.\n",
    "# Replace these with your actual values\n",
    "models = ['LDA', 'Logistic Regression', 'KNN']\n",
    "accuracy = [0.987, 0.973, 0.96]\n",
    "precision = [0.987, 0.975, 0.962]\n",
    "recall = [0.987, 0.973, 0.96]\n",
    "f1 = [0.987, 0.973, 0.96]\n",
    "\n",
    "x = np.arange(len(models))\n",
    "width = 0.2\n",
    "\n",
    "plt.figure(figsize=(10,6))\n",
    "plt.bar(x - 1.5*width, accuracy, width, label='Accuracy')\n",
    "plt.bar(x - 0.5*width, precision, width, label='Precision')\n",
    "plt.bar(x + 0.5*width, recall, width, label='Recall')\n",
    "plt.bar(x + 1.5*width, f1, width, label='F1 Score')\n",
    "\n",
    "plt.ylabel('Score')\n",
    "plt.title('Model Performance Comparison')\n",
    "plt.xticks(x, models)\n",
    "plt.ylim(0.9, 1.0)\n",
    "plt.legend()\n",
    "plt.grid(axis='y', linestyle='--', alpha=0.7)\n",
    "plt.show()"
   ]
  },
  {
   "cell_type": "code",
   "execution_count": null,
   "metadata": {},
   "outputs": [],
   "source": []
  },
  {
   "cell_type": "code",
   "execution_count": null,
   "metadata": {},
   "outputs": [],
   "source": []
  },
  {
   "cell_type": "code",
   "execution_count": null,
   "metadata": {},
   "outputs": [],
   "source": []
  },
  {
   "cell_type": "code",
   "execution_count": null,
   "metadata": {},
   "outputs": [],
   "source": []
  },
  {
   "cell_type": "code",
   "execution_count": null,
   "metadata": {},
   "outputs": [],
   "source": []
  }
 ],
 "metadata": {
  "colab": {
   "provenance": []
  },
  "kernelspec": {
   "display_name": "anaconda-panel-2023.05-py310",
   "language": "python",
   "name": "conda-env-anaconda-panel-2023.05-py310-py"
  },
  "language_info": {
   "codemirror_mode": {
    "name": "ipython",
    "version": 3
   },
   "file_extension": ".py",
   "mimetype": "text/x-python",
   "name": "python",
   "nbconvert_exporter": "python",
   "pygments_lexer": "ipython3",
   "version": "3.11.5"
  }
 },
 "nbformat": 4,
 "nbformat_minor": 4
}
